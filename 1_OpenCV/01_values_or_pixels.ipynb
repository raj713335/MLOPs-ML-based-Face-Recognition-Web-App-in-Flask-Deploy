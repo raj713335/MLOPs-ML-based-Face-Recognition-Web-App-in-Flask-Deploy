{
 "cells": [
  {
   "cell_type": "code",
   "execution_count": 1,
   "id": "39f27489",
   "metadata": {},
   "outputs": [],
   "source": [
    "import numpy as np # numerical python \n",
    "import matplotlib.pyplot as plt # visualization library"
   ]
  },
  {
   "cell_type": "code",
   "execution_count": 2,
   "id": "8623ab9b",
   "metadata": {},
   "outputs": [
    {
     "name": "stdout",
     "output_type": "stream",
     "text": [
      "[  0   1   2   3   4   5   6   7   8   9  10  11  12  13  14  15  16  17\n",
      "  18  19  20  21  22  23  24  25  26  27  28  29  30  31  32  33  34  35\n",
      "  36  37  38  39  40  41  42  43  44  45  46  47  48  49  50  51  52  53\n",
      "  54  55  56  57  58  59  60  61  62  63  64  65  66  67  68  69  70  71\n",
      "  72  73  74  75  76  77  78  79  80  81  82  83  84  85  86  87  88  89\n",
      "  90  91  92  93  94  95  96  97  98  99 100 101 102 103 104 105 106 107\n",
      " 108 109 110 111 112 113 114 115 116 117 118 119 120 121 122 123 124 125\n",
      " 126 127 128 129 130 131 132 133 134 135 136 137 138 139 140 141 142 143\n",
      " 144 145 146 147 148 149 150 151 152 153 154 155 156 157 158 159 160 161\n",
      " 162 163 164 165 166 167 168 169 170 171 172 173 174 175 176 177 178 179\n",
      " 180 181 182 183 184 185 186 187 188 189 190 191 192 193 194 195 196 197\n",
      " 198 199 200 201 202 203 204 205 206 207 208 209 210 211 212 213 214 215\n",
      " 216 217 218 219 220 221 222 223 224 225 226 227 228 229 230 231 232 233\n",
      " 234 235 236 237 238 239 240 241 242 243 244 245 246 247 248 249 250 251\n",
      " 252 253 254 255]\n"
     ]
    }
   ],
   "source": [
    "# create an array in the range (0,255) . 16 x 16\n",
    "arr = np.arange(0,256,1)\n",
    "print(arr)"
   ]
  },
  {
   "cell_type": "code",
   "execution_count": 3,
   "id": "63ad3755",
   "metadata": {
    "scrolled": true
   },
   "outputs": [
    {
     "name": "stdout",
     "output_type": "stream",
     "text": [
      "[[  0   1   2   3   4   5   6   7   8   9  10  11  12  13  14  15]\n",
      " [ 16  17  18  19  20  21  22  23  24  25  26  27  28  29  30  31]\n",
      " [ 32  33  34  35  36  37  38  39  40  41  42  43  44  45  46  47]\n",
      " [ 48  49  50  51  52  53  54  55  56  57  58  59  60  61  62  63]\n",
      " [ 64  65  66  67  68  69  70  71  72  73  74  75  76  77  78  79]\n",
      " [ 80  81  82  83  84  85  86  87  88  89  90  91  92  93  94  95]\n",
      " [ 96  97  98  99 100 101 102 103 104 105 106 107 108 109 110 111]\n",
      " [112 113 114 115 116 117 118 119 120 121 122 123 124 125 126 127]\n",
      " [128 129 130 131 132 133 134 135 136 137 138 139 140 141 142 143]\n",
      " [144 145 146 147 148 149 150 151 152 153 154 155 156 157 158 159]\n",
      " [160 161 162 163 164 165 166 167 168 169 170 171 172 173 174 175]\n",
      " [176 177 178 179 180 181 182 183 184 185 186 187 188 189 190 191]\n",
      " [192 193 194 195 196 197 198 199 200 201 202 203 204 205 206 207]\n",
      " [208 209 210 211 212 213 214 215 216 217 218 219 220 221 222 223]\n",
      " [224 225 226 227 228 229 230 231 232 233 234 235 236 237 238 239]\n",
      " [240 241 242 243 244 245 246 247 248 249 250 251 252 253 254 255]]\n"
     ]
    }
   ],
   "source": [
    "arr = arr.reshape((16,16))\n",
    "print(arr)"
   ]
  },
  {
   "cell_type": "code",
   "execution_count": 5,
   "id": "ddd163d0",
   "metadata": {},
   "outputs": [],
   "source": [
    "arr_8bit = arr.astype(np.uint8)"
   ]
  },
  {
   "cell_type": "code",
   "execution_count": 7,
   "id": "eda1bf4b",
   "metadata": {},
   "outputs": [
    {
     "data": {
      "image/png": "[encoded data removed]",
      "text/plain": [
       "<Figure size 432x288 with 1 Axes>"
      ]
     },
     "metadata": {
      "needs_background": "light"
     },
     "output_type": "display_data"
    }
   ],
   "source": [
    "plt.imshow(arr_8bit,cmap='gray')\n",
    "plt.axis('off')\n",
    "plt.show()"
   ]
  },
  {
   "cell_type": "code",
   "execution_count": 9,
   "id": "aac2a9e5",
   "metadata": {},
   "outputs": [
    {
     "data": {
      "text/plain": [
       "(-0.5, 15.5, 15.5, -0.5)"
      ]
     },
     "execution_count": 9,
     "metadata": {},
     "output_type": "execute_result"
    },
    {
     "data": {
      "image/png": "[encoded data removed]",
      "text/plain": [
       "<Figure size 432x288 with 1 Axes>"
      ]
     },
     "metadata": {
      "needs_background": "light"
     },
     "output_type": "display_data"
    }
   ],
   "source": [
    "# random matrix (16x16)\n",
    "arr1 = np.random.randint(low=0,high=255,size=(16,16),dtype=np.uint8)\n",
    "plt.imshow(arr1,cmap='gray')\n",
    "plt.axis('off')"
   ]
  },
  {
   "cell_type": "code",
   "execution_count": 10,
   "id": "cf30f79d",
   "metadata": {},
   "outputs": [
    {
     "data": {
      "text/plain": [
       "array([[183, 108, 246,  34,  91,  86, 207, 196,  60, 114, 102,  98, 185,\n",
       "        146, 172, 216],\n",
       "       [ 19, 189,  36, 120, 145, 142, 165, 151, 141,  13,  52, 237, 130,\n",
       "        253, 210, 161],\n",
       "       [140,  20,  80, 161, 251,   4, 252,  50,  76, 129,   9, 209,   6,\n",
       "        219,  53, 233],\n",
       "       [ 61, 108,  74, 124, 103,  70, 100, 202, 204, 116, 198, 116, 245,\n",
       "         41, 184,  32],\n",
       "       [145,  34, 188,  88,  53,  18, 117, 216, 108, 253,  71, 112, 243,\n",
       "         81, 189, 120],\n",
       "       [138, 232, 215, 101, 251, 253,  88, 136,  40, 124, 117, 246, 183,\n",
       "         12, 176,  39],\n",
       "       [192, 105,   6,  87, 132, 133, 176,  72, 107, 113, 221, 139,   1,\n",
       "         64, 192, 254],\n",
       "       [ 29, 168, 150,   5, 250,  54, 204, 171, 162,  48,  38, 201, 203,\n",
       "        145, 110, 135],\n",
       "       [168, 190,  28,   9,  23, 160, 110, 148, 126, 101, 202,  59,  49,\n",
       "          7,  66, 166],\n",
       "       [ 34,   6, 162,  61, 120,  42, 239, 187,  61, 184,  96, 145, 185,\n",
       "        207, 105, 173],\n",
       "       [218, 223, 203, 215,  93, 209, 153, 142, 249, 128, 209, 220, 227,\n",
       "        157,  11, 204],\n",
       "       [153,  43, 153, 235, 170,  34, 186, 248,  51,  61,  17, 237, 208,\n",
       "         92, 187,  35],\n",
       "       [218,  34, 234, 185, 152, 214,  63,  67,  33, 148,  14, 201, 110,\n",
       "        152, 102, 142],\n",
       "       [141,  28,   6, 170,  29, 216,  41, 113,  23, 205,  56,  72,  30,\n",
       "         89, 205, 203],\n",
       "       [234, 163,  52, 117,  57,   0, 254, 132, 237, 124, 210, 243, 219,\n",
       "        213, 188, 234],\n",
       "       [246, 240, 183, 242, 173, 168,  31, 131,   8,   8, 215, 151,   7,\n",
       "        204, 151,  95]], dtype=uint8)"
      ]
     },
     "execution_count": 10,
     "metadata": {},
     "output_type": "execute_result"
    }
   ],
   "source": [
    "arr1"
   ]
  },
  {
   "cell_type": "code",
   "execution_count": null,
   "id": "fe1d54c5",
   "metadata": {},
   "outputs": [],
   "source": []
  },
  {
   "cell_type": "code",
   "execution_count": null,
   "id": "6f78756c",
   "metadata": {},
   "outputs": [],
   "source": []
  },
  {
   "cell_type": "code",
   "execution_count": null,
   "id": "dfabb797",
   "metadata": {},
   "outputs": [],
   "source": []
  },
  {
   "cell_type": "code",
   "execution_count": null,
   "id": "f2381cad",
   "metadata": {},
   "outputs": [],
   "source": []
  },
  {
   "cell_type": "code",
   "execution_count": null,
   "id": "778c03f1",
   "metadata": {},
   "outputs": [],
   "source": []
  }
 ],
 "metadata": {
  "kernelspec": {
   "display_name": "Python 3 (ipykernel)",
   "language": "python",
   "name": "python3"
  },
  "language_info": {
   "codemirror_mode": {
    "name": "ipython",
    "version": 3
   },
   "file_extension": ".py",
   "mimetype": "text/x-python",
   "name": "python",
   "nbconvert_exporter": "python",
   "pygments_lexer": "ipython3",
   "version": "3.9.10"
  }
 },
 "nbformat": 4,
 "nbformat_minor": 5
}
